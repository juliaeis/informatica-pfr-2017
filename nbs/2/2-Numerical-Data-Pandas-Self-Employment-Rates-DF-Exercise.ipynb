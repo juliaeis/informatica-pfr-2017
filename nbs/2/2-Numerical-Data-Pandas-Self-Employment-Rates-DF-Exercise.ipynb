{
 "cells": [
  {
   "cell_type": "markdown",
   "metadata": {},
   "source": [
    "# Self Employment Data 2015\n",
    "from [OECD](https://data.oecd.org/emp/self-employment-rate.htm#indicator-chart)"
   ]
  },
  {
   "cell_type": "code",
   "execution_count": 1,
   "metadata": {
    "collapsed": true
   },
   "outputs": [],
   "source": [
    "countries = ['AUS', 'AUT', 'BEL', 'CAN', 'CZE', 'FIN', 'DEU', 'GRC', 'HUN', 'ISL', 'IRL', 'ITA', 'JPN', \n",
    "             'KOR', 'MEX', 'NLD', 'NZL', 'NOR', 'POL', 'PRT', 'SVK', 'ESP', 'SWE', 'CHE', 'TUR', 'GBR', \n",
    "             'USA', 'CHL', 'COL', 'EST', 'ISR', 'RUS', 'SVN', 'EU28', 'EA19', 'LVA']\n",
    "\n",
    "male_selfemployment_rates = [12.13246, 15.39631, 18.74896, 9.18314, 20.97991, 18.87097, \n",
    "                             13.46109, 39.34802, 13.3356, 16.83681, 25.35344, 29.27118, \n",
    "                             12.06516, 27.53898, 31.6945, 19.81751, 17.68489, 9.13669, \n",
    "                             24.15699, 22.95656, 19.00245, 21.16428, 13.93171, 8.73181, \n",
    "                             30.73483, 19.11255, 7.48383, 25.92752, 52.27145, 12.05042, \n",
    "                             15.8517, 8.10048, 19.02411, 19.59021, 19.1384, 14.75558]\n",
    "\n",
    "female_selfemployment_rates = [8.18631, 10.38607, 11.07756, 8.0069, 12.78461, \n",
    "                               9.42761, 7.75637, 29.56566, 8.00408, 7.6802, 8.2774, 18.33204, \n",
    "                               9.7313, 23.56431, 32.81488, 13.36444, 11.50045, 4.57464, \n",
    "                               17.63891, 13.92678, 10.32846, 12.82925, 6.22453, 9.28793, \n",
    "                               38.32216, 10.21743, 5.2896, 25.24502, 49.98448, 6.624, \n",
    "                               9.0243, 6.26909, 13.46641, 11.99529, 11.34129, 8.88987]\n",
    "\n",
    "countries_by_continent = {'AUS':'AUS', 'AUT':'EUR', 'BEL':'EUR', 'CAN':'AM', \n",
    "                          'CZE':'EUR', 'FIN':'EUR', 'DEU':'EUR', 'GRC':'EUR', \n",
    "                          'HUN':'EUR', 'ISL':'EUR', 'IRL':'EUR', 'ITA':'EUR', \n",
    "                          'JPN':'AS',  'KOR':'AS',  'MEX':'AM',  'NLD':'EUR', \n",
    "                          'NZL':'AUS', 'NOR':'EUR', 'POL':'EUR', 'PRT':'EUR', \n",
    "                          'SVK':'EUR', 'ESP':'EUR', 'SWE':'EUR', 'CHE':'EUR', \n",
    "                          'TUR':'EUR', 'GBR':'EUR', 'USA':'AM' , 'CHL':'AM', \n",
    "                          'COL':'AM' , 'EST':'EUR', 'ISR':'AS',  'RUS':'EUR', \n",
    "                          'SVN':'EUR', 'EU28':'EUR','EA19':'AS', 'LVA':'EUR'}"
   ]
  },
  {
   "cell_type": "code",
   "execution_count": 2,
   "metadata": {},
   "outputs": [
    {
     "data": {
      "text/html": [
       "<div>\n",
       "<style>\n",
       "    .dataframe thead tr:only-child th {\n",
       "        text-align: right;\n",
       "    }\n",
       "\n",
       "    .dataframe thead th {\n",
       "        text-align: left;\n",
       "    }\n",
       "\n",
       "    .dataframe tbody tr th {\n",
       "        vertical-align: top;\n",
       "    }\n",
       "</style>\n",
       "<table border=\"1\" class=\"dataframe\">\n",
       "  <thead>\n",
       "    <tr style=\"text-align: right;\">\n",
       "      <th></th>\n",
       "      <th>countries</th>\n",
       "      <th>selfemployment_rates</th>\n",
       "    </tr>\n",
       "  </thead>\n",
       "  <tbody>\n",
       "    <tr>\n",
       "      <th>0</th>\n",
       "      <td>AUS</td>\n",
       "      <td>12.13246</td>\n",
       "    </tr>\n",
       "    <tr>\n",
       "      <th>1</th>\n",
       "      <td>AUT</td>\n",
       "      <td>15.39631</td>\n",
       "    </tr>\n",
       "    <tr>\n",
       "      <th>2</th>\n",
       "      <td>BEL</td>\n",
       "      <td>18.74896</td>\n",
       "    </tr>\n",
       "    <tr>\n",
       "      <th>3</th>\n",
       "      <td>CAN</td>\n",
       "      <td>9.18314</td>\n",
       "    </tr>\n",
       "    <tr>\n",
       "      <th>4</th>\n",
       "      <td>CZE</td>\n",
       "      <td>20.97991</td>\n",
       "    </tr>\n",
       "  </tbody>\n",
       "</table>\n",
       "</div>"
      ],
      "text/plain": [
       "  countries  selfemployment_rates\n",
       "0       AUS              12.13246\n",
       "1       AUT              15.39631\n",
       "2       BEL              18.74896\n",
       "3       CAN               9.18314\n",
       "4       CZE              20.97991"
      ]
     },
     "execution_count": 2,
     "metadata": {},
     "output_type": "execute_result"
    }
   ],
   "source": [
    "import pandas as pd\n",
    "\n",
    "df_male_selfemployment_rates = pd.DataFrame({'countries':countries, 'selfemployment_rates':male_selfemployment_rates})\n",
    "df_male_selfemployment_rates.head()"
   ]
  },
  {
   "cell_type": "code",
   "execution_count": 3,
   "metadata": {},
   "outputs": [
    {
     "data": {
      "text/html": [
       "<div>\n",
       "<style>\n",
       "    .dataframe thead tr:only-child th {\n",
       "        text-align: right;\n",
       "    }\n",
       "\n",
       "    .dataframe thead th {\n",
       "        text-align: left;\n",
       "    }\n",
       "\n",
       "    .dataframe tbody tr th {\n",
       "        vertical-align: top;\n",
       "    }\n",
       "</style>\n",
       "<table border=\"1\" class=\"dataframe\">\n",
       "  <thead>\n",
       "    <tr style=\"text-align: right;\">\n",
       "      <th></th>\n",
       "      <th>countries</th>\n",
       "      <th>selfemployment_rates</th>\n",
       "    </tr>\n",
       "  </thead>\n",
       "  <tbody>\n",
       "    <tr>\n",
       "      <th>0</th>\n",
       "      <td>AUS</td>\n",
       "      <td>8.18631</td>\n",
       "    </tr>\n",
       "    <tr>\n",
       "      <th>1</th>\n",
       "      <td>AUT</td>\n",
       "      <td>10.38607</td>\n",
       "    </tr>\n",
       "    <tr>\n",
       "      <th>2</th>\n",
       "      <td>BEL</td>\n",
       "      <td>11.07756</td>\n",
       "    </tr>\n",
       "    <tr>\n",
       "      <th>3</th>\n",
       "      <td>CAN</td>\n",
       "      <td>8.00690</td>\n",
       "    </tr>\n",
       "    <tr>\n",
       "      <th>4</th>\n",
       "      <td>CZE</td>\n",
       "      <td>12.78461</td>\n",
       "    </tr>\n",
       "  </tbody>\n",
       "</table>\n",
       "</div>"
      ],
      "text/plain": [
       "  countries  selfemployment_rates\n",
       "0       AUS               8.18631\n",
       "1       AUT              10.38607\n",
       "2       BEL              11.07756\n",
       "3       CAN               8.00690\n",
       "4       CZE              12.78461"
      ]
     },
     "execution_count": 3,
     "metadata": {},
     "output_type": "execute_result"
    }
   ],
   "source": [
    "df_female_selfemployment_rates = pd.DataFrame({'countries':countries, 'selfemployment_rates':female_selfemployment_rates})\n",
    "df_female_selfemployment_rates.head()"
   ]
  },
  {
   "cell_type": "code",
   "execution_count": 4,
   "metadata": {},
   "outputs": [
    {
     "data": {
      "text/html": [
       "<div>\n",
       "<style>\n",
       "    .dataframe thead tr:only-child th {\n",
       "        text-align: right;\n",
       "    }\n",
       "\n",
       "    .dataframe thead th {\n",
       "        text-align: left;\n",
       "    }\n",
       "\n",
       "    .dataframe tbody tr th {\n",
       "        vertical-align: top;\n",
       "    }\n",
       "</style>\n",
       "<table border=\"1\" class=\"dataframe\">\n",
       "  <thead>\n",
       "    <tr style=\"text-align: right;\">\n",
       "      <th></th>\n",
       "      <th>country</th>\n",
       "      <th>continent</th>\n",
       "    </tr>\n",
       "  </thead>\n",
       "  <tbody>\n",
       "    <tr>\n",
       "      <th>0</th>\n",
       "      <td>AUS</td>\n",
       "      <td>AUS</td>\n",
       "    </tr>\n",
       "    <tr>\n",
       "      <th>1</th>\n",
       "      <td>AUT</td>\n",
       "      <td>EUR</td>\n",
       "    </tr>\n",
       "    <tr>\n",
       "      <th>2</th>\n",
       "      <td>BEL</td>\n",
       "      <td>EUR</td>\n",
       "    </tr>\n",
       "    <tr>\n",
       "      <th>3</th>\n",
       "      <td>CAN</td>\n",
       "      <td>AM</td>\n",
       "    </tr>\n",
       "    <tr>\n",
       "      <th>4</th>\n",
       "      <td>CZE</td>\n",
       "      <td>EUR</td>\n",
       "    </tr>\n",
       "  </tbody>\n",
       "</table>\n",
       "</div>"
      ],
      "text/plain": [
       "  country continent\n",
       "0     AUS       AUS\n",
       "1     AUT       EUR\n",
       "2     BEL       EUR\n",
       "3     CAN        AM\n",
       "4     CZE       EUR"
      ]
     },
     "execution_count": 4,
     "metadata": {},
     "output_type": "execute_result"
    }
   ],
   "source": [
    "df_country_continent = pd.DataFrame(list(countries_by_continent.items()), columns=['country','continent'])\n",
    "df_country_continent.head()"
   ]
  },
  {
   "cell_type": "markdown",
   "metadata": {},
   "source": [
    "# Solutions with Pandas\n",
    "\n",
    "## Basic Calculations and Statistics"
   ]
  },
  {
   "cell_type": "markdown",
   "metadata": {},
   "source": [
    "### Exercise 1\n",
    "\n",
    "Calculate for each country the overallselfemployment_rate:<br>\n",
    "`df_selfemployment_rate:=(male_selfemployment_rates+female_selfemployment_rates)/2`\n",
    "\n",
    "(assumes that #women ~#men)"
   ]
  },
  {
   "cell_type": "code",
   "execution_count": 76,
   "metadata": {},
   "outputs": [],
   "source": [
    "# TODO\n",
    "# 1. merge df_male+df_female\n",
    "# 2. calculate\n",
    "\n",
    "df_ser = df_male_selfemployment_rates.merge( \\\n",
    "                                df_female_selfemployment_rates, \\\n",
    "                                on='countries', suffixes=('_m','_f'))\n",
    "df_ser['avg']=(df_ser.selfemployment_rates_f+df_ser.selfemployment_rates_m)/2\n",
    "df_ser.rename(columns={'selfemployment_rates_f':'f', \\\n",
    "                      'selfemployment_rates_m':'m'}, inplace=True)"
   ]
  },
  {
   "cell_type": "code",
   "execution_count": 60,
   "metadata": {},
   "outputs": [
    {
     "data": {
      "text/html": [
       "<div>\n",
       "<style>\n",
       "    .dataframe thead tr:only-child th {\n",
       "        text-align: right;\n",
       "    }\n",
       "\n",
       "    .dataframe thead th {\n",
       "        text-align: left;\n",
       "    }\n",
       "\n",
       "    .dataframe tbody tr th {\n",
       "        vertical-align: top;\n",
       "    }\n",
       "</style>\n",
       "<table border=\"1\" class=\"dataframe\">\n",
       "  <thead>\n",
       "    <tr style=\"text-align: right;\">\n",
       "      <th></th>\n",
       "      <th>countries</th>\n",
       "      <th>m</th>\n",
       "      <th>f</th>\n",
       "      <th>avg</th>\n",
       "    </tr>\n",
       "  </thead>\n",
       "  <tbody>\n",
       "    <tr>\n",
       "      <th>0</th>\n",
       "      <td>AUS</td>\n",
       "      <td>12.13246</td>\n",
       "      <td>8.18631</td>\n",
       "      <td>10.159385</td>\n",
       "    </tr>\n",
       "    <tr>\n",
       "      <th>1</th>\n",
       "      <td>AUT</td>\n",
       "      <td>15.39631</td>\n",
       "      <td>10.38607</td>\n",
       "      <td>12.891190</td>\n",
       "    </tr>\n",
       "    <tr>\n",
       "      <th>2</th>\n",
       "      <td>BEL</td>\n",
       "      <td>18.74896</td>\n",
       "      <td>11.07756</td>\n",
       "      <td>14.913260</td>\n",
       "    </tr>\n",
       "    <tr>\n",
       "      <th>3</th>\n",
       "      <td>CAN</td>\n",
       "      <td>9.18314</td>\n",
       "      <td>8.00690</td>\n",
       "      <td>8.595020</td>\n",
       "    </tr>\n",
       "    <tr>\n",
       "      <th>4</th>\n",
       "      <td>CZE</td>\n",
       "      <td>20.97991</td>\n",
       "      <td>12.78461</td>\n",
       "      <td>16.882260</td>\n",
       "    </tr>\n",
       "  </tbody>\n",
       "</table>\n",
       "</div>"
      ],
      "text/plain": [
       "  countries         m         f        avg\n",
       "0       AUS  12.13246   8.18631  10.159385\n",
       "1       AUT  15.39631  10.38607  12.891190\n",
       "2       BEL  18.74896  11.07756  14.913260\n",
       "3       CAN   9.18314   8.00690   8.595020\n",
       "4       CZE  20.97991  12.78461  16.882260"
      ]
     },
     "execution_count": 60,
     "metadata": {},
     "output_type": "execute_result"
    }
   ],
   "source": [
    "df_ser.head()"
   ]
  },
  {
   "cell_type": "markdown",
   "metadata": {},
   "source": [
    "### Exercise 2\n",
    "Calculate\n",
    "- maximum\n",
    "- minimum\n",
    "- sum\n",
    "- mean\n",
    "- standard deviation\n",
    "\n",
    "for/of all selfemployment_rates."
   ]
  },
  {
   "cell_type": "code",
   "execution_count": 72,
   "metadata": {},
   "outputs": [
    {
     "name": "stdout",
     "output_type": "stream",
     "text": [
      "51.127965\n",
      "6.386715\n",
      "603.390065\n",
      "16.7608351389\n",
      "9.34603245614\n"
     ]
    }
   ],
   "source": [
    "# TODO\n",
    "print(df_ser.avg.max())\n",
    "print(df_ser.avg.min())\n",
    "print(df_ser.avg.sum())\n",
    "print(df_ser.avg.mean())\n",
    "print(df_ser.avg.std())"
   ]
  },
  {
   "cell_type": "markdown",
   "metadata": {},
   "source": [
    "### Exercise 3\n",
    "Find the Country with the highest `selfemployment_rate`."
   ]
  },
  {
   "cell_type": "code",
   "execution_count": 74,
   "metadata": {},
   "outputs": [
    {
     "data": {
      "text/plain": [
       "'COL'"
      ]
     },
     "execution_count": 74,
     "metadata": {},
     "output_type": "execute_result"
    }
   ],
   "source": [
    "# TODO\n",
    "df_ser.countries[df_ser.avg.argmax()]"
   ]
  },
  {
   "cell_type": "markdown",
   "metadata": {},
   "source": [
    "### Exercise 4\n",
    "Find the the sum of all `selfemployment_rate`s, which are between `10-15`."
   ]
  },
  {
   "cell_type": "code",
   "execution_count": 80,
   "metadata": {},
   "outputs": [
    {
     "data": {
      "text/plain": [
       "174.81038999999996"
      ]
     },
     "execution_count": 80,
     "metadata": {},
     "output_type": "execute_result"
    }
   ],
   "source": [
    "# TODO\n",
    "df_ser.avg[(df_ser.avg>=10) & (df_ser.avg<=15)].sum()\n"
   ]
  },
  {
   "cell_type": "markdown",
   "metadata": {},
   "source": [
    "### Exercise 5\n",
    "a) Plot a barchart of the `selfemployment_rate`s by country (as in [Basic-Plotting]. Use [pandas plotting facilities](https://pandas.pydata.org/pandas-docs/stable/visualization.html)).\n",
    "\n",
    "Use [`Pandas set_index`](https://pandas.pydata.org/pandas-docs/stable/generated/pandas.DataFrame.set_index.html?highlight=set_index) to get the labeling in place."
   ]
  },
  {
   "cell_type": "code",
   "execution_count": 82,
   "metadata": {},
   "outputs": [],
   "source": [
    "# TODO\n",
    "import matplotlib.pyplot as plt\n",
    "%matplotlib inline\n",
    "\n"
   ]
  },
  {
   "cell_type": "markdown",
   "metadata": {},
   "source": [
    "b) Plot a barchart of the male vs. female `selfemployment_rate`s by country (as in [Basic-Plotting](../1/5-Basic-Plotting-Exercise.ipynb), but using [pandas plotting facilities](https://pandas.pydata.org/pandas-docs/stable/visualization.html)).\n",
    "\n",
    "Use [`Pandas set_index`](https://pandas.pydata.org/pandas-docs/stable/generated/pandas.DataFrame.set_index.html?highlight=set_index) to get the labeling in place.\n",
    "\n",
    "Set meaningful labels (by [renaming the columns]())"
   ]
  },
  {
   "cell_type": "code",
   "execution_count": 42,
   "metadata": {},
   "outputs": [],
   "source": [
    "# TODO"
   ]
  },
  {
   "cell_type": "markdown",
   "metadata": {},
   "source": [
    "## Aggregetions"
   ]
  },
  {
   "cell_type": "markdown",
   "metadata": {},
   "source": [
    "### Exercise 6\n",
    "Calculate the mean of the selfemployment-rates per continent."
   ]
  },
  {
   "cell_type": "code",
   "execution_count": 46,
   "metadata": {},
   "outputs": [],
   "source": [
    "# TODO group by Continent"
   ]
  }
 ],
 "metadata": {
  "anaconda-cloud": {},
  "kernelspec": {
   "display_name": "Python 3",
   "language": "python",
   "name": "python3"
  },
  "language_info": {
   "codemirror_mode": {
    "name": "ipython",
    "version": 3
   },
   "file_extension": ".py",
   "mimetype": "text/x-python",
   "name": "python",
   "nbconvert_exporter": "python",
   "pygments_lexer": "ipython3",
   "version": "3.6.1"
  }
 },
 "nbformat": 4,
 "nbformat_minor": 1
}
