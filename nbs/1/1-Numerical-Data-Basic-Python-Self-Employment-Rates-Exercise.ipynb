{
 "cells": [
  {
   "cell_type": "markdown",
   "metadata": {},
   "source": [
    "# Self Employment Data 2015\n",
    "from [OECD](https://data.oecd.org/emp/self-employment-rate.htm#indicator-chart)"
   ]
  },
  {
   "cell_type": "code",
   "execution_count": 1,
   "metadata": {
    "collapsed": true
   },
   "outputs": [],
   "source": [
    "countries = ['AUS', 'AUT', 'BEL', 'CAN', 'CZE', 'FIN', 'DEU', 'GRC', 'HUN', 'ISL', 'IRL', 'ITA', 'JPN', \n",
    "             'KOR', 'MEX', 'NLD', 'NZL', 'NOR', 'POL', 'PRT', 'SVK', 'ESP', 'SWE', 'CHE', 'TUR', 'GBR', \n",
    "             'USA', 'CHL', 'COL', 'EST', 'ISR', 'RUS', 'SVN', 'EU28', 'EA19', 'LVA']\n",
    "\n",
    "male_selfemployment_rates = [12.13246, 15.39631, 18.74896, 9.18314, 20.97991, 18.87097, \n",
    "                             13.46109, 39.34802, 13.3356, 16.83681, 25.35344, 29.27118, \n",
    "                             12.06516, 27.53898, 31.6945, 19.81751, 17.68489, 9.13669, \n",
    "                             24.15699, 22.95656, 19.00245, 21.16428, 13.93171, 8.73181, \n",
    "                             30.73483, 19.11255, 7.48383, 25.92752, 52.27145, 12.05042, \n",
    "                             15.8517, 8.10048, 19.02411, 19.59021, 19.1384, 14.75558]\n",
    "\n",
    "female_selfemployment_rates = [8.18631, 10.38607, 11.07756, 8.0069, 12.78461, \n",
    "                               9.42761, 7.75637, 29.56566, 8.00408, 7.6802, 8.2774, 18.33204, \n",
    "                               9.7313, 23.56431, 32.81488, 13.36444, 11.50045, 4.57464, \n",
    "                               17.63891, 13.92678, 10.32846, 12.82925, 6.22453, 9.28793, \n",
    "                               38.32216, 10.21743, 5.2896, 25.24502, 49.98448, 6.624, \n",
    "                               9.0243, 6.26909, 13.46641, 11.99529, 11.34129, 8.88987]\n",
    "\n",
    "countries_by_continent = {'AUS':'AUS', 'AUT':'EUR', 'BEL':'EUR', 'CAN':'AM', \n",
    "                          'CZE':'EUR', 'FIN':'EUR', 'DEU':'EUR', 'GRC':'EUR', \n",
    "                          'HUN':'EUR', 'ISL':'EUR', 'IRL':'EUR', 'ITA':'EUR', \n",
    "                          'JPN':'AS',  'KOR':'AS',  'MEX':'AM',  'NLD':'EUR', \n",
    "                          'NZL':'AUS', 'NOR':'EUR', 'POL':'EUR', 'PRT':'EUR', \n",
    "                          'SVK':'EUR', 'ESP':'EUR', 'SWE':'EUR', 'CHE':'EUR', \n",
    "                          'TUR':'EUR', 'GBR':'EUR', 'USA':'AM' , 'CHL':'AM', \n",
    "                          'COL':'AM' , 'EST':'EUR', 'ISR':'AS',  'RUS':'EUR', \n",
    "                          'SVN':'EUR', 'EU28':'EUR','EA19':'AS', 'LVA':'EUR'}"
   ]
  },
  {
   "cell_type": "markdown",
   "metadata": {},
   "source": [
    "# Solutions with Basic Python\n",
    "\n",
    "## Basic Calculations and Statistics"
   ]
  },
  {
   "cell_type": "markdown",
   "metadata": {},
   "source": [
    "### Exercise 1\n",
    "\n",
    "Calculate for each country the overallselfemployment_rate:<br>\n",
    "`selfemployment_rate:=(male_selfemployment_rates+female_selfemployment_rates)/2`\n",
    "\n",
    "(assumes that #women ~#men)\n",
    "\n",
    "1. Use a for-loop\n",
    "2. Use a [list-comprehension](http://www.secnetix.de/olli/Python/list_comprehensions.hawk) and maybe `zip`"
   ]
  },
  {
   "cell_type": "code",
   "execution_count": 2,
   "metadata": {},
   "outputs": [
    {
     "data": {
      "text/plain": [
       "[10.159385,\n",
       " 12.89119,\n",
       " 14.913260000000001,\n",
       " 8.59502,\n",
       " 16.882260000000002,\n",
       " 14.14929,\n",
       " 10.608730000000001,\n",
       " 34.45684,\n",
       " 10.66984,\n",
       " 12.258505,\n",
       " 16.81542,\n",
       " 23.80161,\n",
       " 10.89823,\n",
       " 25.551645,\n",
       " 32.254690000000004,\n",
       " 16.590975,\n",
       " 14.59267,\n",
       " 6.855665,\n",
       " 20.89795,\n",
       " 18.441670000000002,\n",
       " 14.665455,\n",
       " 16.996765,\n",
       " 10.07812,\n",
       " 9.00987,\n",
       " 34.528495,\n",
       " 14.66499,\n",
       " 6.386715000000001,\n",
       " 25.58627,\n",
       " 51.127965,\n",
       " 9.33721,\n",
       " 12.437999999999999,\n",
       " 7.184785,\n",
       " 16.245260000000002,\n",
       " 15.79275,\n",
       " 15.239845,\n",
       " 11.822725]"
      ]
     },
     "execution_count": 2,
     "metadata": {},
     "output_type": "execute_result"
    }
   ],
   "source": [
    "# TODO\n",
    "assert len(male_selfemployment_rates)==len(female_selfemployment_rates)\n",
    "\n",
    "selfemployment_rate=[]\n",
    "for i in range(len(male_selfemployment_rates)):\n",
    "    selfemployment_rate.append( \\\n",
    "        (male_selfemployment_rates[i]+female_selfemployment_rates[i])/2)\n",
    "\n",
    "selfemployment_rate"
   ]
  },
  {
   "cell_type": "code",
   "execution_count": 3,
   "metadata": {
    "collapsed": true
   },
   "outputs": [],
   "source": [
    "selfemployment_rate = [(msr+fsr)/2 for \\\n",
    "                       msr, fsr in zip(male_selfemployment_rates,\\\n",
    "                                       female_selfemployment_rates)]"
   ]
  },
  {
   "cell_type": "markdown",
   "metadata": {},
   "source": [
    "### Exercise 2\n",
    "Calculate\n",
    "- maximum\n",
    "- minimum\n",
    "- sum\n",
    "- mean\n",
    "- [standard deviation](https://en.wikipedia.org/wiki/Standard_deviation)\n",
    "    - by hand using the [definition](https://en.wikipedia.org/wiki/Standard_deviation) \n",
    "    - using the [statisctics module](https://docs.python.org/3/library/statistics.html)\n",
    "\n",
    "for/of all selfemployment_rates."
   ]
  },
  {
   "cell_type": "code",
   "execution_count": 4,
   "metadata": {},
   "outputs": [
    {
     "name": "stdout",
     "output_type": "stream",
     "text": [
      "51.13\n"
     ]
    },
    {
     "data": {
      "text/plain": [
       "51.127965"
      ]
     },
     "execution_count": 4,
     "metadata": {},
     "output_type": "execute_result"
    }
   ],
   "source": [
    "# TODO max\n",
    "print (\"%.2f\" % max(selfemployment_rate))\n",
    "max(selfemployment_rate)"
   ]
  },
  {
   "cell_type": "code",
   "execution_count": 5,
   "metadata": {},
   "outputs": [
    {
     "data": {
      "text/plain": [
       "6.386715000000001"
      ]
     },
     "execution_count": 5,
     "metadata": {},
     "output_type": "execute_result"
    }
   ],
   "source": [
    "# TODO min\n",
    "min(selfemployment_rate)"
   ]
  },
  {
   "cell_type": "code",
   "execution_count": 6,
   "metadata": {},
   "outputs": [
    {
     "data": {
      "text/plain": [
       "603.3900649999999"
      ]
     },
     "execution_count": 6,
     "metadata": {},
     "output_type": "execute_result"
    }
   ],
   "source": [
    "# TODO sum\n",
    "sum(selfemployment_rate)"
   ]
  },
  {
   "cell_type": "code",
   "execution_count": 7,
   "metadata": {},
   "outputs": [
    {
     "data": {
      "text/plain": [
       "16.76083513888889"
      ]
     },
     "execution_count": 7,
     "metadata": {},
     "output_type": "execute_result"
    }
   ],
   "source": [
    "# TODO mean\n",
    "from statistics import mean\n",
    "mean(selfemployment_rate)"
   ]
  },
  {
   "cell_type": "code",
   "execution_count": 8,
   "metadata": {},
   "outputs": [
    {
     "data": {
      "text/plain": [
       "16.76083513888889"
      ]
     },
     "execution_count": 8,
     "metadata": {},
     "output_type": "execute_result"
    }
   ],
   "source": [
    "import statistics\n",
    "statistics.mean(selfemployment_rate)"
   ]
  },
  {
   "cell_type": "code",
   "execution_count": 9,
   "metadata": {},
   "outputs": [
    {
     "data": {
      "text/plain": [
       "9.346032456144119"
      ]
     },
     "execution_count": 9,
     "metadata": {},
     "output_type": "execute_result"
    }
   ],
   "source": [
    "# TODO standard deviation\n",
    "statistics.stdev(selfemployment_rate)"
   ]
  },
  {
   "cell_type": "markdown",
   "metadata": {},
   "source": [
    "### Exercise 3\n",
    "Find the Country with the highest `selfemployment_rate`."
   ]
  },
  {
   "cell_type": "code",
   "execution_count": 10,
   "metadata": {},
   "outputs": [
    {
     "data": {
      "text/plain": [
       "'COL'"
      ]
     },
     "execution_count": 10,
     "metadata": {},
     "output_type": "execute_result"
    }
   ],
   "source": [
    "# TODO\n",
    "idx=selfemployment_rate.index(max(selfemployment_rate))\n",
    "countries[idx]"
   ]
  },
  {
   "cell_type": "markdown",
   "metadata": {},
   "source": [
    "### Exercise 4\n",
    "Find the the sum of all `selfemployment_rate`s, which are between `10-15`.\n",
    "\n",
    "1. with loop\n",
    "2. using [filter](http://www.python-course.eu/lambda.php)"
   ]
  },
  {
   "cell_type": "code",
   "execution_count": 11,
   "metadata": {},
   "outputs": [
    {
     "data": {
      "text/plain": [
       "174.81038999999996"
      ]
     },
     "execution_count": 11,
     "metadata": {},
     "output_type": "execute_result"
    }
   ],
   "source": [
    "# TODO\n",
    "summ = 0\n",
    "for se in selfemployment_rate:\n",
    "    if se>=10 and se<=15:\n",
    "        summ += se\n",
    "        \n",
    "summ"
   ]
  },
  {
   "cell_type": "code",
   "execution_count": 12,
   "metadata": {},
   "outputs": [
    {
     "data": {
      "text/plain": [
       "174.81038999999996"
      ]
     },
     "execution_count": 12,
     "metadata": {},
     "output_type": "execute_result"
    }
   ],
   "source": [
    "sum(list(filter(lambda se: se>=10 and se<=15, selfemployment_rate)))"
   ]
  },
  {
   "cell_type": "markdown",
   "metadata": {},
   "source": [
    "## Aggregetions"
   ]
  },
  {
   "cell_type": "markdown",
   "metadata": {},
   "source": [
    "### Exercise 5\n",
    "Calculate the mean of the selfemployment-rates per continent.<br>\n",
    "Consider to use `zip` and [collections.defaultdict](https://docs.python.org/3/library/collections.html#collections.defaultdict)."
   ]
  },
  {
   "cell_type": "code",
   "execution_count": 14,
   "metadata": {},
   "outputs": [
    {
     "data": {
      "text/plain": [
       "{'AM': 24.790132, 'AS': 16.03193, 'AUS': 12.3760275, 'EUR': 15.6223852}"
      ]
     },
     "execution_count": 14,
     "metadata": {},
     "output_type": "execute_result"
    }
   ],
   "source": [
    "# TODO\n",
    "continent_with_rate = [(countries_by_continent[country], rate) for country,rate in zip(countries,selfemployment_rate)]\n",
    "#print ('continent_with_rate = {}'.format(continent_with_rate))\n",
    "\n",
    "# ------------------------------------------\n",
    "from collections import defaultdict\n",
    "\n",
    "rate_by_continent = defaultdict(list)\n",
    "for c,r in continent_with_rate:\n",
    "    rate_by_continent[c].append(r)\n",
    "    \n",
    "#print('AM -> {}'.format(rate_by_continent['AM']))\n",
    "\n",
    "# ------------------------------------------\n",
    "mean_rates_by_continent = {c:mean(r) for c,r in rate_by_continent.items()}\n",
    "mean_rates_by_continent"
   ]
  }
 ],
 "metadata": {
  "anaconda-cloud": {},
  "kernelspec": {
   "display_name": "Python 3",
   "language": "python",
   "name": "python3"
  },
  "language_info": {
   "codemirror_mode": {
    "name": "ipython",
    "version": 3
   },
   "file_extension": ".py",
   "mimetype": "text/x-python",
   "name": "python",
   "nbconvert_exporter": "python",
   "pygments_lexer": "ipython3",
   "version": "3.6.1"
  }
 },
 "nbformat": 4,
 "nbformat_minor": 1
}
